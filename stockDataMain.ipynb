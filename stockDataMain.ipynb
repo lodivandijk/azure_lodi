{
  "cells": [
    {
      "metadata": {
        "trusted": true
      },
      "cell_type": "code",
      "source": "#modules\nimport numpy\nimport pandas as pd\nimport json\nimport urllib2\nimport datetime\nimport time",
      "execution_count": 1,
      "outputs": []
    },
    {
      "metadata": {
        "trusted": true
      },
      "cell_type": "code",
      "source": "#API data from ticker\n\ndef getAPIData(ticker):\n    websource = urllib2.urlopen('https://www.alphavantage.co/query?function=TIME_SERIES_DAILY&symbol='+ticker+'&outputsize=full&apikey=CBU3HK62CDA53MJU')\n    data1 = json.loads(websource.read().decode())\n    data = data1['Time Series (Daily)']\n    df = pd.DataFrame.from_dict(data, orient = 'index')\n    return df",
      "execution_count": 2,
      "outputs": []
    },
    {
      "metadata": {
        "trusted": true
      },
      "cell_type": "code",
      "source": "#CCY to GBP\n\nCCY_list =[]\n\ndef CCYtoGBP(df_pos_CCY, df_API_CCY, headings_list_CCY):\n    for index, row in df_pos_CCY.iterrows():\n        if row['CCY'] <> 'GBP':\n            addCCY = True\n            for x in CCY_list:\n                if row['CCY'] == x:\n                    addCCY = False\n            if addCCY == True:\n                CCY_list.append(row['CCY'])\n    \n    for i in CCY_list:\n        try:\n            websource = urllib2.urlopen('https://www.alphavantage.co/query?function=FX_DAILY&from_symbol='+i+'&to_symbol=GBP&outputsize=full&apikey=CBU3HK62CDA53MJU')\n            data_CCY = json.loads(websource.read().decode())\n            data_CCY = data_CCY['Time Series FX (Daily)']\n            df_temp_CCY = pd.DataFrame.from_dict(data_CCY, orient = 'index')\n            time.sleep(20)\n            df_temp_CCY = df_temp_CCY['4. close']\n            df_temp_CCY = df_temp_CCY.astype(float) #numbers to float\n            df_temp_CCY.fillna(1, inplace = True)\n            df_temp_CCY.index = pd.to_datetime(df_temp_CCY.index) # index str to dates         \n            #df_API_CCY = pd.concat([df_API_CCY, df_temp_CCY], axis=1, sort=False)\n            #df_API_CCY = pd.concat([df_API_CCY, df_temp_CCY.reindex(df_API_CCY.index)], axis=1, sort=False)\n            #df_API_CCY = pd.merge(df_API_CCY, df_temp_CCY, left_index=True, right_index=True\n            df_API_CCY = df_API_CCY.join(df_temp_CCY)\n            headings_list.append(i)\n            df_API_CCY.columns = [headings_list] #add headings\n            #df_API_CCY.rename({'4. close': i}, axis=1, inplace=True)\n            \n            print 'Proceesed CCY '+ i\n        except Exception, e:\n            print 'Error on CCY ' + i +' message: ' +str(e)\n    \n    return df_API_CCY   \n\n#CCYtoGBP(df_pos, df_API)\n",
      "execution_count": 3,
      "outputs": []
    },
    {
      "metadata": {
        "trusted": true
      },
      "cell_type": "code",
      "source": "#position data\nfilename = 'Data_trial.csv'\n#filename = 'Data.csv'\n\ndf_pos = pd.read_csv(filename, delimiter=';')\ndf_pos['Initial_Value'] = pd.Series(0.0, index=df_pos.index)\ndf_pos['Current_Value'] = pd.Series(0.0, index=df_pos.index)\ndf_pos['Delta'] = pd.Series(0.0, index=df_pos.index)\ndf_pos['Percent_change'] = pd.Series(0.0, index=df_pos.index)\ndf_pos['Volatility'] = pd.Series(0.0, index=df_pos.index)\n#df_pos['CCY_conversion'] = pd.Series(1.0, index=df_pos.index)\n\n#df_pos = df_pos.astype(float) #numbers to float\n#df_pos.Open = pd.to_datetime(df_pos.Open) # str to date\n\n#df_pos.head()",
      "execution_count": 4,
      "outputs": []
    },
    {
      "metadata": {
        "trusted": true
      },
      "cell_type": "code",
      "source": "# GBP CCY value, initial value, current value, delta, % change, volatility \n# per stock\n\ndef posData(df_pos_pos, df_API_pos, date_index):\n    ccy_rate_init = 1.0\n    ccy_rate_curr = 1.0\n    #date_index = df_API_pos.index.max\n    #date_index = '2019-07-30'\n    for index, row in df_pos_pos.iterrows():\n        if row['CCY'] <> 'GBP':\n            ccy_rate_init = df_API_pos.loc[row['Open'],row['CCY']].values[0,0]\n            #ccy_rate_curr = df_API_pos.loc[df_API_pos.index[-1],row['CCY']]\n            ccy_rate_curr = df_API_pos.loc[date_index,row['CCY']].values[0,0]\n            #print df_API_pos.loc[df_API_pos.index.max,row['CCY']]\n            #print df_API_pos.index.max\n        try:\n            ip_df = df_API_pos.loc[row['Open'],row['Ticker']]*row['Qty']*ccy_rate_init\n            ip = ip_df.iat[0,0]\n            df_pos_pos.iat[index, 8] = ip\n            cp_df = df_API_pos.loc[date_index,row['Ticker']]*row['Qty']*ccy_rate_curr\n            cp = cp_df.iat[0,0]\n            df_pos_pos.iat[index, 9] = cp\n            #print cp\n            \n            if row['Type'] == 'Short':\n                delta = ip - cp\n                df_pos_pos.iat[index, 10] = delta\n            if row['Type'] == 'Long':\n                delta = cp - ip\n                df_pos_pos.iat[index, 10] = delta \n                 \n            pc = (delta / ip)\n            df_pos_pos.iat[index, 11] = pc\n            \n        except:\n            print 'Error on '+str(row['Ticker'])\n            \n    return df_pos_pos\n\n#posData(df_pos, df_API).head()\n        ",
      "execution_count": 5,
      "outputs": []
    },
    {
      "metadata": {
        "trusted": true
      },
      "cell_type": "code",
      "source": "#daily totals per strategy\n\nstrategy_list =[]\n\ndef strategyData(df_pos_strat, df_API_strat, headings_list_strat):\n    for index, row in df_pos_strat.iterrows():\n        addStrat = True\n        for x in strategy_list:\n            if row['Strategy'] == x:\n                addStrat = False\n        if addStrat == True:\n            strategy_list.append(row['Strategy'])\n            df_API_strat[row['Strategy']] = pd.Series(0.0, index=df_API_strat.index)\n    \n\n    for y in strategy_list: \n        print 'Strategy: ' + y\n        for index_API, row_API in df_API_strat.iterrows():\n            strategy_total =0.0\n            ccy_rate = 1.0\n            \n            for index, row in df_pos_strat.iterrows():\n                row['Open'] = pd.to_datetime(row['Open'])\n                if index_API >= row['Open']:\n                    if row['Strategy'] == y:    \n                        try:        \n                            if row['CCY'] <> 'GBP':\n                                ccy_rate = df_API_strat.loc[index_API,row['CCY']].values[0]\n                            if row['Type'] == 'Long':\n                                strategy_total = strategy_total + (ccy_rate * row['Qty'] * df_API_strat.loc[index_API,row['Ticker']].values[0])\n                            if row['Type'] == 'Short':\n                                open_value = row['Qty'] * df_API_strat.loc[row['Open'],row['Ticker']].values[0]\n                                strategy_total = strategy_total + open_value + open_value - (ccy_rate * row['Qty'] * df_API_strat.loc[index_API,row['Ticker']].values[0])\n                        except:\n                            error_strat = 1\n                            #print 'Error on ' + row['Ticker']   \n            row_API[y] = strategy_total\n            #print strategy_total\n            \n    return df_API_strat\n\n#a = strategyData(df_pos, df_API,headings_list)              \n#a.head()",
      "execution_count": 6,
      "outputs": []
    },
    {
      "metadata": {
        "trusted": true
      },
      "cell_type": "code",
      "source": "#stock data\ndf_API = pd.DataFrame()\nheadings_list = []\ncurrent_date = '2019-09-06'\n\nfor index, row in df_pos.iterrows():\n    try:\n        df_temp = getAPIData(row['Ticker'])\n        print 'Processed '+ row['Ticker']\n        time.sleep(20)\n        df_temp = df_temp['4. close']\n        df_API = pd.concat([df_API, df_temp], axis=1, sort=False)\n        headings_list.append(row['Ticker'])\n    except Exception, e:\n        print 'Error on ' + row['Ticker'] +' message: ' +str(e)\n\ndf_API.columns = [headings_list] #add headings \ndf_API = df_API.astype(float) #numbers to float\ndf_API.index = pd.to_datetime(df_API.index) # index str to dates\ndf_API.fillna(0, inplace = True)\n\ndf_API = CCYtoGBP(df_pos, df_API, headings_list)\ndf_pos = posData(df_pos, df_API, current_date)\ndf_API = strategyData(df_pos, df_API, headings_list)\n\n#df_pos.head()",
      "execution_count": 7,
      "outputs": [
        {
          "output_type": "stream",
          "text": "Processed LON:RIO\nProcessed LON:AAL\nProcessed NASDAQ:FB\nProcessed NASDAQ:AMZN\nProceesed CCY USD\nStrategy: GB_Mining\nStrategy: FAANGS_Short\n",
          "name": "stdout"
        }
      ]
    },
    {
      "metadata": {
        "trusted": true
      },
      "cell_type": "code",
      "source": "import matplotlib.pyplot as plt\nimport numpy as np\nimport pandas as pd\nfrom datetime import datetime, date, time\nimport datetime as dt\nimport time\nimport matplotlib as mpl\n\nmpl.rcParams.update({'font.size': 8})\n\nfilename = 'out_API.csv'\n\ndf_pos = pd.read_csv(filename, delimiter=';')\n\ndef stratPlot(x,y, labelp):\n\tplt.plot(x,y, marker=',',linewidth=0.7, label = labelp)\n\ndef strategyPlot(st_list, df):\n\tdf = df[df.index.to_pydatetime() > dt.datetime(2017,3,1)]\n\tdf = df[(df < 12000).all(1)] \n\n\tx = np.array(df.index.to_pydatetime(), dtype=np.datetime64)\n\n\tfor i in st_list:\n\t\ty = df[i]#df[[i]].to_numpy()\n        print y\n\t\tstratPlot(x, y, i)\t\n\n\tplt.xlabel('Date')\n\tplt.ylabel('Value(USD)')\n\tplt.title('Strategy')\n\tplt.xticks(rotation=20)\n\tplt.legend()\n\n\t#plt.savefig('Strategy ' + str(datetime.today().strftime('%Y-%m-%d')) +'.pdf')\n\t\n\tplt.show()\n    \nstrategyPlot(strategy_list, df_API)",
      "execution_count": 12,
      "outputs": [
        {
          "output_type": "error",
          "ename": "IndentationError",
          "evalue": "unexpected indent (<ipython-input-12-7fef3b4e86d9>, line 23)",
          "traceback": [
            "\u001b[0;36m  File \u001b[0;32m\"<ipython-input-12-7fef3b4e86d9>\"\u001b[0;36m, line \u001b[0;32m23\u001b[0m\n\u001b[0;31m    stratPlot(x, y, i)\u001b[0m\n\u001b[0m    ^\u001b[0m\n\u001b[0;31mIndentationError\u001b[0m\u001b[0;31m:\u001b[0m unexpected indent\n"
          ]
        }
      ]
    },
    {
      "metadata": {
        "trusted": true
      },
      "cell_type": "code",
      "source": "b = pd.DataFrame()\n\nb = df_API[strategy_list]\nc = b.loc[b.index >= '2019-07-01']\n\n#d = c[(c != 0).all(1)]\nf = c[(c < 12000).all(1)]\n#d = c[(c[strategy_list[0]] != 0).any()]\nf.plot()",
      "execution_count": null,
      "outputs": []
    },
    {
      "metadata": {
        "trusted": true
      },
      "cell_type": "code",
      "source": "b = pd.DataFrame()\n\nb = df_API[strategy_list]\nc = b.loc[b.index >= '2017-03-01']\n\n#d = c[(c != 0).all(1)]\nf = c[(c < 12000).all(1)]\n#d = c[(c[strategy_list[0]] != 0).any()]\nf.plot()",
      "execution_count": null,
      "outputs": []
    },
    {
      "metadata": {
        "trusted": true
      },
      "cell_type": "code",
      "source": "df_pos.head(12)",
      "execution_count": null,
      "outputs": []
    },
    {
      "metadata": {
        "trusted": true
      },
      "cell_type": "code",
      "source": "#table = \npd.pivot_table(df_pos, values=['Delta', 'Initial_Value', 'Current_Value'], index=['Strategy'], aggfunc=sum)\n#print table",
      "execution_count": null,
      "outputs": []
    },
    {
      "metadata": {
        "trusted": true
      },
      "cell_type": "code",
      "source": "\nf.to_csv(\"out.csv\")\ndf_API.to_csv(\"out_API.csv\")\n",
      "execution_count": null,
      "outputs": []
    },
    {
      "metadata": {
        "trusted": true
      },
      "cell_type": "code",
      "source": "df_pos.to_csv(\"out_pos.csv\")",
      "execution_count": null,
      "outputs": []
    },
    {
      "metadata": {
        "trusted": true
      },
      "cell_type": "code",
      "source": "print y",
      "execution_count": 10,
      "outputs": [
        {
          "output_type": "error",
          "ename": "NameError",
          "evalue": "name 'y' is not defined",
          "traceback": [
            "\u001b[0;31m\u001b[0m",
            "\u001b[0;31mNameError\u001b[0mTraceback (most recent call last)",
            "\u001b[0;32m<ipython-input-10-3bd31d684b1f>\u001b[0m in \u001b[0;36m<module>\u001b[0;34m()\u001b[0m\n\u001b[0;32m----> 1\u001b[0;31m \u001b[0;32mprint\u001b[0m \u001b[0my\u001b[0m\u001b[0;34m\u001b[0m\u001b[0m\n\u001b[0m",
            "\u001b[0;31mNameError\u001b[0m: name 'y' is not defined"
          ]
        }
      ]
    }
  ],
  "metadata": {
    "kernelspec": {
      "name": "python2",
      "display_name": "Python 2",
      "language": "python"
    },
    "language_info": {
      "mimetype": "text/x-python",
      "nbconvert_exporter": "python",
      "name": "python",
      "pygments_lexer": "ipython2",
      "version": "2.7.15",
      "file_extension": ".py",
      "codemirror_mode": {
        "version": 2,
        "name": "ipython"
      }
    }
  },
  "nbformat": 4,
  "nbformat_minor": 1
}