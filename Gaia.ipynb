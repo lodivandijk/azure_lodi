{
 "cells": [
  {
   "cell_type": "code",
   "execution_count": null,
   "metadata": {},
   "outputs": [],
   "source": [
    "import astropy.units as u\n",
    "from astropy.coordinates import SkyCoord\n",
    "from astroquery.gaia import Gaia\n",
    "\n",
    "coord = SkyCoord(ra=280, dec=-60, unit=(u.degree, u.degree), frame='icrs')\n",
    "width = u.Quantity(0.1, u.deg)\n",
    "height = u.Quantity(0.1, u.deg)\n",
    "r = Gaia.query_object_async(coordinate=coord, width=width, height=height)\n",
    "df = r.to_pandas()\n",
    "df"
   ]
  }
 ],
 "metadata": {
  "kernelspec": {
   "display_name": "Python 3",
   "language": "python",
   "name": "python3"
  },
  "language_info": {
   "codemirror_mode": {
    "name": "ipython",
    "version": 3
   },
   "file_extension": ".py",
   "mimetype": "text/x-python",
   "name": "python",
   "nbconvert_exporter": "python",
   "pygments_lexer": "ipython3",
   "version": "3.7.8"
  }
 },
 "nbformat": 4,
 "nbformat_minor": 4
}
