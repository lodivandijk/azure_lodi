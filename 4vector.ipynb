{
  "cells": [
    {
      "metadata": {
        "trusted": true
      },
      "cell_type": "code",
      "source": "import scipy as sp\nimport numpy as np\nimport math",
      "execution_count": 1,
      "outputs": []
    },
    {
      "metadata": {
        "trusted": true
      },
      "cell_type": "code",
      "source": "class four_vector:\n    def __init__(self, t, x, y, z):\n        self.four_vec = np.array([t,x,y,z], np.float32)\n        \n    def print_vector(vec):\n        #print(\"[\"+str(round(vec.four_vec[0],2))+\", \"+str(round(vec.four_vec[1],2))+\", \"+str(round(vec.four_vec[2],2))+\", \"+str(round(vec.four_vec[3],2))+\"] \")\n        print(\"[\"+str(vec.four_vec[0])+\", \"+str(vec.four_vec[1])+\", \"+str(vec.four_vec[2])+\", \"+str(vec.four_vec[3])+\"] \")\n        #print(\"time:  \" + str(round(vec.four_vec[0],2)))\n        #print(\"x:     \" + str(round(vec.four_vec[1],2)))\n        #print(\"y:     \" + str(round(vec.four_vec[2],2)))\n        #print(\"z:     \" + str(round(vec.four_vec[3],2))+\"\\n\")",
      "execution_count": 2,
      "outputs": []
    },
    {
      "metadata": {
        "trusted": true
      },
      "cell_type": "code",
      "source": "class four_matrix:\n    def __init__(self):\n        self.mat = np.identity(4)\n\n    def minkowski(self):\n        self.mat = np.array( [[1, 0, 0, 0],\n                   [0, -1, 0, 0],\n                   [0, 0, -1, 0],\n                   [0, 0, 0, -1]])     \n        \n    def Xboost(self, vel):\n        c = 299792458 #m/s\n        gamma = 1/(sp.sqrt(1-((pow(vel,2))/(pow(c,2)))))\n\n        self.mat = np.array([[gamma, -gamma*vel/c, 0, 0],\n                             [-gamma*vel/c, gamma, 0, 0],\n                             [0, 0, 1, 0],\n                             [0, 0, 0, 1]])\n        \n    def Yboost(self, vel):\n        c = 299792458 #m/s\n        gamma = 1/(sp.sqrt(1-((pow(vel,2))/(pow(c,2)))))\n\n        self.mat = np.array([[gamma, 0, -gamma*vel/c, 0],\n                             [0, 1, 0, 0],\n                             [-gamma*vel/c, 0, gamma, 0],\n                             [0, 0, 0, 1]])\n    def Zboost(self, vel):\n        c = 299792458 #m/s\n        gamma = 1/(sp.sqrt(1-((pow(vel,2))/(pow(c,2)))))\n\n        self.mat = np.array([[gamma, 0, 0, -gamma*vel/c],\n                             [0, 1, 0, 0],\n                             [0, 0, 1, 0],\n                             [-gamma*vel/c, 0, 0, gamma]])\n     \n    def Xrotation(self, angle):\n        self.mat = np.array([[1, 0, 0, 0],\n                             [0, 1, 0, 0],\n                             [0, 0, np.cos(angle), -np.sin(angle)],\n                             [0, 0, np.sin(angle), np.cos(angle)]])\n    \n    def Yrotation(self, angle):\n        self.mat = np.array([[1, 0, 0, 0],\n                             [0, np.cos(angle), 0, np.sin(angle)],\n                             [0, 0, 1, 0],\n                             [0, -np.sin(angle), 0, np.cos(angle)]])\n        \n\n    def Zrotation(self, angle):\n        self.mat = np.array([[1, 0, 0, 0],\n                             [0, np.cos(angle), -np.sin(angle), 0],\n                             [0, np.sin(angle), np.cos(angle), 0],\n                             [0, 0, 0, 1]])\n    \n    def lorentz(self, mink):\n        Lorx = four_matrix()\n        Lory = four_matrix()\n        Lorz = four_matrix()\n        \n        Lorx.mat = self.mat.transpose()\n        Lory.mat = np.matmul(Lorx.mat, mink.mat)\n        Lorz.mat = np.matmul(Lory.mat, self.mat)\n        \n        return Lorz\n    \n    \n    def print_matrix(self):\n        print(self.mat)\n    ",
      "execution_count": 3,
      "outputs": []
    },
    {
      "metadata": {},
      "cell_type": "markdown",
      "source": "$$X^\\mu = \\Lambda^\\mu _{\\nu}$$ \n "
    },
    {
      "metadata": {},
      "cell_type": "markdown",
      "source": "$$\\Lambda^T \\eta \\Lambda = \\eta$$"
    },
    {
      "metadata": {
        "trusted": true
      },
      "cell_type": "code",
      "source": "def lorentz(prams):\n\n    trans = []\n\n    for i in range(7):\n        trans.append(four_matrix())\n\n    trans[0].Xboost(prams[0])\n    trans[1].Yboost(prams[1])\n    trans[2].Zboost(prams[2])\n    trans[3].Xrotation(prams[3])\n    trans[4].Yrotation(prams[4])\n    trans[5].Zrotation(prams[5])\n\n    for x in trans:\n        trans[6].mat = np.matmul(trans[6].mat, x.mat)\n    \n    #trans[6].print_matrix()\n    \n    return trans[6]",
      "execution_count": 4,
      "outputs": []
    },
    {
      "metadata": {
        "trusted": true
      },
      "cell_type": "markdown",
      "source": "$$X^\\mu \\eta_{\\mu \\nu} X^\\nu = c^2t^2 - x^2 - y^2 - z^2$$ "
    },
    {
      "metadata": {
        "trusted": true
      },
      "cell_type": "code",
      "source": "def invariant(x, mink):\n    \n    y = four_vector(0,0,0,0)\n    \n    y.four_vec = np.matmul(mink.mat, x.four_vec)\n    invar = np.matmul(y.four_vec, x.four_vec)\n    \n    return invar",
      "execution_count": 5,
      "outputs": []
    },
    {
      "metadata": {
        "trusted": true
      },
      "cell_type": "code",
      "source": "c = 299792458 #m/s\n\nframe_prams = [0,0,0,np.pi/4,0,0]\n\nminkowski = four_matrix()\nminkowski.minkowski()\n\nlor_tran = lorentz(frame_prams)\n\nx = four_vector(0.0, 1.0, 2.0, 0.0)\ny = four_vector(0,0,0,0)\n\ny.four_vec = np.matmul(lor_tran.mat, x.four_vec)\n\nfour_vector.print_vector(x)\nfour_vector.print_vector(y)\n\n#print(invariant(y, minkowski))\n#print(round(invariant(x, minkowski),2))\n#print(round(invariant(y, minkowski),2))\n\nlor_tran.lorentz(minkowski).print_matrix()\n",
      "execution_count": 6,
      "outputs": [
        {
          "output_type": "stream",
          "text": "[0.0, 1.0, 2.0, 0.0] \n[0.0, 1.0, 3.9934692350854785e-16, 2.0] \n[[ 1.00000000e+00  0.00000000e+00  0.00000000e+00  0.00000000e+00]\n [ 0.00000000e+00 -1.00000000e+00  0.00000000e+00  0.00000000e+00]\n [ 0.00000000e+00  0.00000000e+00 -1.00000000e+00  2.02930727e-17]\n [ 0.00000000e+00  0.00000000e+00  2.02930727e-17 -1.00000000e+00]]\n",
          "name": "stdout"
        }
      ]
    },
    {
      "metadata": {
        "trusted": true
      },
      "cell_type": "code",
      "source": "",
      "execution_count": null,
      "outputs": []
    }
  ],
  "metadata": {
    "kernelspec": {
      "name": "python36",
      "display_name": "Python 3.6",
      "language": "python"
    },
    "language_info": {
      "mimetype": "text/x-python",
      "nbconvert_exporter": "python",
      "name": "python",
      "pygments_lexer": "ipython3",
      "version": "3.6.6",
      "file_extension": ".py",
      "codemirror_mode": {
        "version": 3,
        "name": "ipython"
      }
    }
  },
  "nbformat": 4,
  "nbformat_minor": 1
}